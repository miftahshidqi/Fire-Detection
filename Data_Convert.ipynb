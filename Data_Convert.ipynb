{
  "nbformat": 4,
  "nbformat_minor": 0,
  "metadata": {
    "colab": {
      "name": "Data Convert.ipynb",
      "provenance": []
    },
    "kernelspec": {
      "name": "python3",
      "display_name": "Python 3"
    },
    "language_info": {
      "name": "python"
    }
  },
  "cells": [
    {
      "cell_type": "code",
      "execution_count": null,
      "metadata": {
        "colab": {
          "base_uri": "https://localhost:8080/"
        },
        "id": "UGDaGRQUY7uv",
        "outputId": "1109065c-41a3-4988-b129-5aa62ffca042"
      },
      "outputs": [
        {
          "output_type": "stream",
          "name": "stdout",
          "text": [
            "Cloning into 'xml2yolo'...\n",
            "remote: Enumerating objects: 19, done.\u001b[K\n",
            "remote: Counting objects: 100% (19/19), done.\u001b[K\n",
            "remote: Compressing objects: 100% (14/14), done.\u001b[K\n",
            "remote: Total 19 (delta 3), reused 18 (delta 3), pack-reused 0\u001b[K\n",
            "Unpacking objects: 100% (19/19), done.\n"
          ]
        }
      ],
      "source": [
        "!git clone https://github.com/bjornstenger/xml2yolo.git"
      ]
    },
    {
      "cell_type": "code",
      "source": [
        "%cd /content/"
      ],
      "metadata": {
        "colab": {
          "base_uri": "https://localhost:8080/"
        },
        "id": "tCl13bYvh-vC",
        "outputId": "208342c2-5cd0-4566-9aa8-5b9b66e93376"
      },
      "execution_count": null,
      "outputs": [
        {
          "output_type": "stream",
          "name": "stdout",
          "text": [
            "/content\n"
          ]
        }
      ]
    },
    {
      "cell_type": "code",
      "source": [
        "!unzip -q Validation.zip -d ../content/xml2yolo"
      ],
      "metadata": {
        "id": "sFp1Hmn3eRFW"
      },
      "execution_count": null,
      "outputs": []
    },
    {
      "cell_type": "code",
      "source": [
        "%cd xml2yolo/"
      ],
      "metadata": {
        "colab": {
          "base_uri": "https://localhost:8080/"
        },
        "id": "5xlIGTjmZDR-",
        "outputId": "aa9b7273-666d-4d89-d4b5-f6d844106c46"
      },
      "execution_count": null,
      "outputs": [
        {
          "output_type": "stream",
          "name": "stdout",
          "text": [
            "/content/xml2yolo\n"
          ]
        }
      ]
    },
    {
      "cell_type": "code",
      "source": [
        "!python convert.py"
      ],
      "metadata": {
        "id": "M4lL6tqKZejO"
      },
      "execution_count": null,
      "outputs": []
    },
    {
      "cell_type": "code",
      "source": [
        "#Download\n",
        "!zip -r /content/ValidDone.zip /content/xml2yolo\n",
        "from google.colab import files\n",
        "files.download(\"/content/ValidDone.zip\")"
      ],
      "metadata": {
        "id": "kzopncExhDdL",
        "colab": {
          "base_uri": "https://localhost:8080/",
          "height": 1000
        },
        "outputId": "585c6255-1976-4bd9-c6b2-393d3612b034"
      },
      "execution_count": null,
      "outputs": [
        {
          "output_type": "stream",
          "name": "stdout",
          "text": [
            "  adding: content/xml2yolo/ (stored 0%)\n",
            "  adding: content/xml2yolo/pic (30).xml (deflated 44%)\n",
            "  adding: content/xml2yolo/img (13).xml (deflated 65%)\n",
            "  adding: content/xml2yolo/img (24).txt (deflated 26%)\n",
            "  adding: content/xml2yolo/img (23).txt (deflated 8%)\n",
            "  adding: content/xml2yolo/img (9).xml (deflated 44%)\n",
            "  adding: content/xml2yolo/small (15).txt (deflated 26%)\n",
            "  adding: content/xml2yolo/img (10).xml (deflated 44%)\n",
            "  adding: content/xml2yolo/small (23).txt (deflated 5%)\n",
            "  adding: content/xml2yolo/small (25).txt (deflated 21%)\n",
            "  adding: content/xml2yolo/img (19).xml (deflated 44%)\n",
            "  adding: content/xml2yolo/img (2).txt (deflated 13%)\n",
            "  adding: content/xml2yolo/.ipynb_checkpoints/ (stored 0%)\n",
            "  adding: content/xml2yolo/small (10).xml (deflated 44%)\n",
            "  adding: content/xml2yolo/pic (16).txt (deflated 16%)\n",
            "  adding: content/xml2yolo/pic (5).xml (deflated 44%)\n",
            "  adding: content/xml2yolo/pic (23).txt (deflated 18%)\n",
            "  adding: content/xml2yolo/small (11).xml (deflated 44%)\n",
            "  adding: content/xml2yolo/small (17).txt (deflated 5%)\n",
            "  adding: content/xml2yolo/small (11).txt (deflated 13%)\n",
            "  adding: content/xml2yolo/small (16).xml (deflated 44%)\n",
            "  adding: content/xml2yolo/img (7).xml (deflated 57%)\n",
            "  adding: content/xml2yolo/img (8).txt (deflated 11%)\n",
            "  adding: content/xml2yolo/img (15).xml (deflated 44%)\n",
            "  adding: content/xml2yolo/img (1).xml (deflated 44%)\n",
            "  adding: content/xml2yolo/pic (18).txt (deflated 21%)\n",
            "  adding: content/xml2yolo/img (7).txt (deflated 28%)\n",
            "  adding: content/xml2yolo/img (5).xml (deflated 44%)\n",
            "  adding: content/xml2yolo/img (24).xml (deflated 56%)\n",
            "  adding: content/xml2yolo/pic (12).txt (deflated 5%)\n",
            "  adding: content/xml2yolo/pic (6).txt (deflated 16%)\n",
            "  adding: content/xml2yolo/small (27).xml (deflated 44%)\n",
            "  adding: content/xml2yolo/small (22).txt (deflated 41%)\n",
            "  adding: content/xml2yolo/pic (14).xml (deflated 43%)\n",
            "  adding: content/xml2yolo/pic (12).xml (deflated 44%)\n",
            "  adding: content/xml2yolo/img (12).xml (deflated 44%)\n",
            "  adding: content/xml2yolo/small (20).txt (deflated 52%)\n",
            "  adding: content/xml2yolo/pic (7).txt (deflated 13%)\n",
            "  adding: content/xml2yolo/pic (27).txt (deflated 13%)\n",
            "  adding: content/xml2yolo/small (25).xml (deflated 44%)\n",
            "  adding: content/xml2yolo/pic (15).xml (deflated 44%)\n",
            "  adding: content/xml2yolo/pic (3).txt (deflated 11%)\n",
            "  adding: content/xml2yolo/pic (11).xml (deflated 57%)\n",
            "  adding: content/xml2yolo/img (16).xml (deflated 44%)\n",
            "  adding: content/xml2yolo/pic (24).txt (deflated 11%)\n",
            "  adding: content/xml2yolo/pic (5).txt (deflated 8%)\n",
            "  adding: content/xml2yolo/pic (22).txt (deflated 13%)\n",
            "  adding: content/xml2yolo/img (30).xml (deflated 44%)\n",
            "  adding: content/xml2yolo/img (27).xml (deflated 44%)\n",
            "  adding: content/xml2yolo/pic (23).xml (deflated 44%)\n",
            "  adding: content/xml2yolo/img (18).txt (deflated 11%)\n",
            "  adding: content/xml2yolo/pic (4).xml (deflated 44%)\n",
            "  adding: content/xml2yolo/small (22).xml (deflated 64%)\n",
            "  adding: content/xml2yolo/small (18).txt (deflated 45%)\n",
            "  adding: content/xml2yolo/small (4).xml (deflated 44%)\n",
            "  adding: content/xml2yolo/small (9).txt (deflated 47%)\n",
            "  adding: content/xml2yolo/pic (15).txt (deflated 21%)\n",
            "  adding: content/xml2yolo/pic (4).txt (deflated 8%)\n",
            "  adding: content/xml2yolo/pic (25).txt (deflated 26%)\n",
            "  adding: content/xml2yolo/img (27).txt (deflated 13%)\n",
            "  adding: content/xml2yolo/pic (21).xml (deflated 44%)\n",
            "  adding: content/xml2yolo/img (14).xml (deflated 43%)\n",
            "  adding: content/xml2yolo/small (21).xml (deflated 73%)\n",
            "  adding: content/xml2yolo/small (2).xml (deflated 44%)\n",
            "  adding: content/xml2yolo/img (1).txt (deflated 21%)\n",
            "  adding: content/xml2yolo/pic (10).xml (deflated 43%)\n",
            "  adding: content/xml2yolo/small (12).xml (deflated 44%)\n",
            "  adding: content/xml2yolo/pic (16).xml (deflated 44%)\n",
            "  adding: content/xml2yolo/pic (30).txt (deflated 13%)\n",
            "  adding: content/xml2yolo/pic (13).xml (deflated 56%)\n",
            "  adding: content/xml2yolo/small (3).txt (deflated 13%)\n",
            "  adding: content/xml2yolo/img (6).txt (deflated 44%)\n",
            "  adding: content/xml2yolo/img (20).xml (deflated 44%)\n",
            "  adding: content/xml2yolo/small (7).xml (deflated 44%)\n",
            "  adding: content/xml2yolo/small (30).txt (deflated 40%)\n",
            "  adding: content/xml2yolo/pic (26).xml (deflated 44%)\n",
            "  adding: content/xml2yolo/.git/ (stored 0%)\n",
            "  adding: content/xml2yolo/.git/config (deflated 33%)\n",
            "  adding: content/xml2yolo/.git/refs/ (stored 0%)\n",
            "  adding: content/xml2yolo/.git/refs/tags/ (stored 0%)\n",
            "  adding: content/xml2yolo/.git/refs/heads/ (stored 0%)\n",
            "  adding: content/xml2yolo/.git/refs/heads/master (stored 0%)\n",
            "  adding: content/xml2yolo/.git/refs/remotes/ (stored 0%)\n",
            "  adding: content/xml2yolo/.git/refs/remotes/origin/ (stored 0%)\n",
            "  adding: content/xml2yolo/.git/refs/remotes/origin/HEAD (stored 0%)\n",
            "  adding: content/xml2yolo/.git/packed-refs (deflated 11%)\n",
            "  adding: content/xml2yolo/.git/index (deflated 44%)\n",
            "  adding: content/xml2yolo/.git/objects/ (stored 0%)\n",
            "  adding: content/xml2yolo/.git/objects/3d/ (stored 0%)\n",
            "  adding: content/xml2yolo/.git/objects/3d/f66ea516625bdc6bd34861ac02e1806e88351a (stored 0%)\n",
            "  adding: content/xml2yolo/.git/objects/fd/ (stored 0%)\n",
            "  adding: content/xml2yolo/.git/objects/fd/186fe93b652fe4175cd87dda5904e16b5e4012 (stored 0%)\n",
            "  adding: content/xml2yolo/.git/objects/37/ (stored 0%)\n",
            "  adding: content/xml2yolo/.git/objects/37/018ed189dd621d752651d23b26ae91dcca92c0 (stored 0%)\n",
            "  adding: content/xml2yolo/.git/objects/pack/ (stored 0%)\n",
            "  adding: content/xml2yolo/.git/objects/c7/ (stored 0%)\n",
            "  adding: content/xml2yolo/.git/objects/c7/ad9b727be18fc7bcca6afbeb796307bd8a130d (deflated 0%)\n",
            "  adding: content/xml2yolo/.git/objects/af/ (stored 0%)\n",
            "  adding: content/xml2yolo/.git/objects/af/b9e87673cbcf6f7c8a9cd2029b7eb95a08bff8 (stored 0%)\n",
            "  adding: content/xml2yolo/.git/objects/14/ (stored 0%)\n",
            "  adding: content/xml2yolo/.git/objects/14/71e87baaaf9b15ed7ac3309c1c6d6da799ad99 (stored 0%)\n",
            "  adding: content/xml2yolo/.git/objects/96/ (stored 0%)\n",
            "  adding: content/xml2yolo/.git/objects/96/3797f5f60e5ddbb2eb6bb722d6a6cf37443916 (deflated 0%)\n",
            "  adding: content/xml2yolo/.git/objects/8e/ (stored 0%)\n",
            "  adding: content/xml2yolo/.git/objects/8e/32544e8e6eb370927d9771b36b215a9a02d538 (stored 0%)\n",
            "  adding: content/xml2yolo/.git/objects/ac/ (stored 0%)\n",
            "  adding: content/xml2yolo/.git/objects/ac/422674b3f90acc0ae217eb0acfe2eefc0b16ba (stored 0%)\n",
            "  adding: content/xml2yolo/.git/objects/55/ (stored 0%)\n",
            "  adding: content/xml2yolo/.git/objects/55/c97b0406e6f5cde32acacf9a72b8aa1265dd75 (stored 0%)\n",
            "  adding: content/xml2yolo/.git/objects/68/ (stored 0%)\n",
            "  adding: content/xml2yolo/.git/objects/68/c76cf0e6d7f2dd94419e462562531bc0b3a863 (stored 0%)\n",
            "  adding: content/xml2yolo/.git/objects/68/6f2a86a1954a409951343e1d9b831197258b64 (stored 0%)\n",
            "  adding: content/xml2yolo/.git/objects/b5/ (stored 0%)\n",
            "  adding: content/xml2yolo/.git/objects/b5/7157fdfe269e4711e3a37d71fa82ae1faeefd3 (stored 0%)\n",
            "  adding: content/xml2yolo/.git/objects/info/ (stored 0%)\n",
            "  adding: content/xml2yolo/.git/objects/d0/ (stored 0%)\n",
            "  adding: content/xml2yolo/.git/objects/d0/4ecd96ab4d12213128ed3fd9f938eccd851620 (stored 0%)\n",
            "  adding: content/xml2yolo/.git/objects/65/ (stored 0%)\n",
            "  adding: content/xml2yolo/.git/objects/65/bdd456a5f1b746603ed671bb06984d0410931e (stored 0%)\n",
            "  adding: content/xml2yolo/.git/objects/89/ (stored 0%)\n",
            "  adding: content/xml2yolo/.git/objects/89/4348c7ffce63d3d37d25339b5398e121332a00 (stored 0%)\n",
            "  adding: content/xml2yolo/.git/objects/4f/ (stored 0%)\n",
            "  adding: content/xml2yolo/.git/objects/4f/5e415674dc6ed631a33bf2d548cc857bc499ba (stored 0%)\n",
            "  adding: content/xml2yolo/.git/objects/e5/ (stored 0%)\n",
            "  adding: content/xml2yolo/.git/objects/e5/59a6014854feae7f987bda3a4331537e73bbc6 (deflated 0%)\n",
            "  adding: content/xml2yolo/.git/objects/c6/ (stored 0%)\n",
            "  adding: content/xml2yolo/.git/objects/c6/9685aafcf5b6e6c1a42125be181c21d3e4faaa (stored 0%)\n",
            "  adding: content/xml2yolo/.git/description (deflated 14%)\n",
            "  adding: content/xml2yolo/.git/HEAD (stored 0%)\n",
            "  adding: content/xml2yolo/.git/branches/ (stored 0%)\n",
            "  adding: content/xml2yolo/.git/hooks/ (stored 0%)\n",
            "  adding: content/xml2yolo/.git/hooks/update.sample (deflated 68%)\n",
            "  adding: content/xml2yolo/.git/hooks/commit-msg.sample (deflated 44%)\n",
            "  adding: content/xml2yolo/.git/hooks/prepare-commit-msg.sample (deflated 50%)\n",
            "  adding: content/xml2yolo/.git/hooks/fsmonitor-watchman.sample (deflated 53%)\n",
            "  adding: content/xml2yolo/.git/hooks/pre-commit.sample (deflated 43%)\n",
            "  adding: content/xml2yolo/.git/hooks/pre-push.sample (deflated 50%)\n",
            "  adding: content/xml2yolo/.git/hooks/pre-applypatch.sample (deflated 38%)\n",
            "  adding: content/xml2yolo/.git/hooks/pre-rebase.sample (deflated 59%)\n",
            "  adding: content/xml2yolo/.git/hooks/pre-receive.sample (deflated 40%)\n",
            "  adding: content/xml2yolo/.git/hooks/post-update.sample (deflated 27%)\n",
            "  adding: content/xml2yolo/.git/hooks/applypatch-msg.sample (deflated 42%)\n",
            "  adding: content/xml2yolo/.git/info/ (stored 0%)\n",
            "  adding: content/xml2yolo/.git/info/exclude (deflated 28%)\n",
            "  adding: content/xml2yolo/.git/logs/ (stored 0%)\n",
            "  adding: content/xml2yolo/.git/logs/refs/ (stored 0%)\n",
            "  adding: content/xml2yolo/.git/logs/refs/heads/ (stored 0%)\n",
            "  adding: content/xml2yolo/.git/logs/refs/heads/master (deflated 28%)\n",
            "  adding: content/xml2yolo/.git/logs/refs/remotes/ (stored 0%)\n",
            "  adding: content/xml2yolo/.git/logs/refs/remotes/origin/ (stored 0%)\n",
            "  adding: content/xml2yolo/.git/logs/refs/remotes/origin/HEAD (deflated 28%)\n",
            "  adding: content/xml2yolo/.git/logs/HEAD (deflated 28%)\n",
            "  adding: content/xml2yolo/small (13).txt (deflated 5%)\n",
            "  adding: content/xml2yolo/img (20).txt (deflated 11%)\n",
            "  adding: content/xml2yolo/pic (10).txt (deflated 8%)\n",
            "  adding: content/xml2yolo/img (29).xml (deflated 56%)\n",
            "  adding: content/xml2yolo/small (1).txt (deflated 45%)\n",
            "  adding: content/xml2yolo/small (15).xml (deflated 44%)\n",
            "  adding: content/xml2yolo/img (6).xml (deflated 65%)\n",
            "  adding: content/xml2yolo/pic (29).xml (deflated 44%)\n",
            "  adding: content/xml2yolo/small (30).xml (deflated 64%)\n",
            "  adding: content/xml2yolo/small (19).xml (deflated 44%)\n",
            "  adding: content/xml2yolo/img (29).txt (deflated 28%)\n",
            "  adding: content/xml2yolo/small (10).txt (deflated 13%)\n",
            "  adding: content/xml2yolo/img (25).txt (deflated 47%)\n",
            "  adding: content/xml2yolo/img (18).xml (deflated 43%)\n",
            "  adding: content/xml2yolo/small (13).xml (deflated 44%)\n",
            "  adding: content/xml2yolo/small (19).txt (deflated 8%)\n",
            "  adding: content/xml2yolo/small (14).xml (deflated 64%)\n",
            "  adding: content/xml2yolo/pic (2).xml (deflated 44%)\n",
            "  adding: content/xml2yolo/pic (20).txt (deflated 50%)\n",
            "  adding: content/xml2yolo/small (26).txt (deflated 5%)\n",
            "  adding: content/xml2yolo/img (17).txt (deflated 5%)\n",
            "  adding: content/xml2yolo/pic (19).txt (deflated 8%)\n",
            "  adding: content/xml2yolo/img (12).txt (deflated 24%)\n",
            "  adding: content/xml2yolo/pic (13).txt (deflated 29%)\n",
            "  adding: content/xml2yolo/small (2).txt (deflated 18%)\n",
            "  adding: content/xml2yolo/img (13).txt (deflated 40%)\n",
            "  adding: content/xml2yolo/img (11).txt (deflated 13%)\n",
            "  adding: content/xml2yolo/pic (1).xml (deflated 70%)\n",
            "  adding: content/xml2yolo/img (22).xml (deflated 69%)\n",
            "  adding: content/xml2yolo/pic (7).xml (deflated 44%)\n",
            "  adding: content/xml2yolo/img (21).xml (deflated 57%)\n",
            "  adding: content/xml2yolo/pic (28).txt (deflated 11%)\n",
            "  adding: content/xml2yolo/img (4).xml (deflated 56%)\n",
            "  adding: content/xml2yolo/img (11).xml (deflated 44%)\n",
            "  adding: content/xml2yolo/small (24).txt (deflated 29%)\n",
            "  adding: content/xml2yolo/img (3).xml (deflated 44%)\n",
            "  adding: content/xml2yolo/convert.py (deflated 67%)\n",
            "  adding: content/xml2yolo/pic (19).xml (deflated 43%)\n",
            "  adding: content/xml2yolo/small (17).xml (deflated 44%)\n",
            "  adding: content/xml2yolo/small (16).txt (deflated 5%)\n",
            "  adding: content/xml2yolo/small (7).txt (deflated 13%)\n",
            "  adding: content/xml2yolo/img (22).txt (deflated 48%)\n",
            "  adding: content/xml2yolo/pic (11).txt (deflated 29%)\n",
            "  adding: content/xml2yolo/pic (9).xml (deflated 43%)\n",
            "  adding: content/xml2yolo/pic (2).txt (deflated 8%)\n",
            "  adding: content/xml2yolo/img (17).xml (deflated 44%)\n",
            "  adding: content/xml2yolo/img (26).txt (deflated 28%)\n",
            "  adding: content/xml2yolo/pic (8).txt (deflated 8%)\n",
            "  adding: content/xml2yolo/small (3).xml (deflated 44%)\n",
            "  adding: content/xml2yolo/small (28).txt (deflated 18%)\n",
            "  adding: content/xml2yolo/img (4).txt (deflated 30%)\n",
            "  adding: content/xml2yolo/small (12).txt (deflated 5%)\n",
            "  adding: content/xml2yolo/pic (1).txt (deflated 45%)\n",
            "  adding: content/xml2yolo/pic (29).txt (deflated 21%)\n",
            "  adding: content/xml2yolo/img (2).xml (deflated 44%)\n",
            "  adding: content/xml2yolo/img (8).xml (deflated 44%)\n",
            "  adding: content/xml2yolo/pic (22).xml (deflated 43%)\n",
            "  adding: content/xml2yolo/small (8).txt (deflated 13%)\n",
            "  adding: content/xml2yolo/pic (18).xml (deflated 44%)\n",
            "  adding: content/xml2yolo/pic (8).xml (deflated 44%)\n",
            "  adding: content/xml2yolo/small (29).txt (deflated 11%)\n",
            "  adding: content/xml2yolo/img (19).txt (deflated 8%)\n",
            "  adding: content/xml2yolo/pic (17).xml (deflated 44%)\n",
            "  adding: content/xml2yolo/pic (26).txt (deflated 13%)\n",
            "  adding: content/xml2yolo/small (1).xml (deflated 70%)\n",
            "  adding: content/xml2yolo/img (26).xml (deflated 57%)\n",
            "  adding: content/xml2yolo/img (5).txt (deflated 13%)\n",
            "  adding: content/xml2yolo/small (18).xml (deflated 65%)\n",
            "  adding: content/xml2yolo/img (28).txt (deflated 18%)\n",
            "  adding: content/xml2yolo/small (29).xml (deflated 44%)\n",
            "  adding: content/xml2yolo/small (26).xml (deflated 44%)\n",
            "  adding: content/xml2yolo/img (30).txt (deflated 8%)\n",
            "  adding: content/xml2yolo/small (21).txt (deflated 54%)\n",
            "  adding: content/xml2yolo/small (6).txt (deflated 11%)\n",
            "  adding: content/xml2yolo/pic (6).xml (deflated 44%)\n",
            "  adding: content/xml2yolo/img (10).txt (deflated 8%)\n",
            "  adding: content/xml2yolo/small (20).xml (deflated 70%)\n",
            "  adding: content/xml2yolo/pic (21).txt (deflated 11%)\n",
            "  adding: content/xml2yolo/img (28).xml (deflated 44%)\n",
            "  adding: content/xml2yolo/pic (28).xml (deflated 44%)\n",
            "  adding: content/xml2yolo/small (4).txt (deflated 5%)\n",
            "  adding: content/xml2yolo/small (28).xml (deflated 44%)\n",
            "  adding: content/xml2yolo/small (8).xml (deflated 44%)\n",
            "  adding: content/xml2yolo/img (23).xml (deflated 44%)\n",
            "  adding: content/xml2yolo/small (6).xml (deflated 44%)\n",
            "  adding: content/xml2yolo/pic (24).xml (deflated 43%)\n",
            "  adding: content/xml2yolo/small (23).xml (deflated 44%)\n",
            "  adding: content/xml2yolo/small (5).txt (deflated 28%)\n",
            "  adding: content/xml2yolo/pic (9).txt (deflated 8%)\n",
            "  adding: content/xml2yolo/small (5).xml (deflated 57%)\n",
            "  adding: content/xml2yolo/small (27).txt (deflated 11%)\n",
            "  adding: content/xml2yolo/img (3).txt (deflated 18%)\n",
            "  adding: content/xml2yolo/img (14).txt (deflated 8%)\n",
            "  adding: content/xml2yolo/images/ (stored 0%)\n",
            "  adding: content/xml2yolo/images/00000.jpg (deflated 0%)\n",
            "  adding: content/xml2yolo/images/00002.jpg (deflated 0%)\n",
            "  adding: content/xml2yolo/images/00001.jpg (deflated 0%)\n",
            "  adding: content/xml2yolo/small (9).xml (deflated 69%)\n",
            "  adding: content/xml2yolo/img (21).txt (deflated 34%)\n",
            "  adding: content/xml2yolo/pic (20).xml (deflated 73%)\n",
            "  adding: content/xml2yolo/img (9).txt (deflated 11%)\n",
            "  adding: content/xml2yolo/pic (25).xml (deflated 44%)\n",
            "  adding: content/xml2yolo/pic (27).xml (deflated 44%)\n",
            "  adding: content/xml2yolo/pic (3).xml (deflated 44%)\n",
            "  adding: content/xml2yolo/pic (17).txt (deflated 18%)\n",
            "  adding: content/xml2yolo/small (14).txt (deflated 46%)\n",
            "  adding: content/xml2yolo/small (24).xml (deflated 57%)\n",
            "  adding: content/xml2yolo/pic (14).txt (deflated 11%)\n",
            "  adding: content/xml2yolo/img (16).txt (deflated 11%)\n",
            "  adding: content/xml2yolo/img (15).txt (deflated 8%)\n",
            "  adding: content/xml2yolo/img (25).xml (deflated 69%)\n"
          ]
        },
        {
          "output_type": "display_data",
          "data": {
            "application/javascript": [
              "\n",
              "    async function download(id, filename, size) {\n",
              "      if (!google.colab.kernel.accessAllowed) {\n",
              "        return;\n",
              "      }\n",
              "      const div = document.createElement('div');\n",
              "      const label = document.createElement('label');\n",
              "      label.textContent = `Downloading \"${filename}\": `;\n",
              "      div.appendChild(label);\n",
              "      const progress = document.createElement('progress');\n",
              "      progress.max = size;\n",
              "      div.appendChild(progress);\n",
              "      document.body.appendChild(div);\n",
              "\n",
              "      const buffers = [];\n",
              "      let downloaded = 0;\n",
              "\n",
              "      const channel = await google.colab.kernel.comms.open(id);\n",
              "      // Send a message to notify the kernel that we're ready.\n",
              "      channel.send({})\n",
              "\n",
              "      for await (const message of channel.messages) {\n",
              "        // Send a message to notify the kernel that we're ready.\n",
              "        channel.send({})\n",
              "        if (message.buffers) {\n",
              "          for (const buffer of message.buffers) {\n",
              "            buffers.push(buffer);\n",
              "            downloaded += buffer.byteLength;\n",
              "            progress.value = downloaded;\n",
              "          }\n",
              "        }\n",
              "      }\n",
              "      const blob = new Blob(buffers, {type: 'application/binary'});\n",
              "      const a = document.createElement('a');\n",
              "      a.href = window.URL.createObjectURL(blob);\n",
              "      a.download = filename;\n",
              "      div.appendChild(a);\n",
              "      a.click();\n",
              "      div.remove();\n",
              "    }\n",
              "  "
            ],
            "text/plain": [
              "<IPython.core.display.Javascript object>"
            ]
          },
          "metadata": {}
        },
        {
          "output_type": "display_data",
          "data": {
            "application/javascript": [
              "download(\"download_eb7ca56c-1ff6-4c10-87c7-740ed13fba45\", \"ValidDone.zip\", 550126)"
            ],
            "text/plain": [
              "<IPython.core.display.Javascript object>"
            ]
          },
          "metadata": {}
        }
      ]
    }
  ]
}